{
  "nbformat": 4,
  "nbformat_minor": 0,
  "metadata": {
    "colab": {
      "provenance": [],
      "authorship_tag": "ABX9TyMrltYKQxpCv++RtYh+TiQk",
      "include_colab_link": true
    },
    "kernelspec": {
      "name": "python3",
      "display_name": "Python 3"
    },
    "language_info": {
      "name": "python"
    }
  },
  "cells": [
    {
      "cell_type": "markdown",
      "metadata": {
        "id": "view-in-github",
        "colab_type": "text"
      },
      "source": [
        "<a href=\"https://colab.research.google.com/github/RajaNaresh1974/23CSBTB15/blob/main/2303A51974_4_15.ipynb\" target=\"_parent\"><img src=\"https://colab.research.google.com/assets/colab-badge.svg\" alt=\"Open In Colab\"/></a>"
      ]
    },
    {
      "cell_type": "code",
      "execution_count": 1,
      "metadata": {
        "colab": {
          "base_uri": "https://localhost:8080/"
        },
        "id": "rCqs53VSNpr8",
        "outputId": "869313c9-196f-49df-9f90-378c97ccfbe2"
      },
      "outputs": [
        {
          "output_type": "stream",
          "name": "stdout",
          "text": [
            "Q1: Hardest Math Topic to Learn:  Abstract Algebra\n",
            "Q2: Top 5 Math Sub-Topics:  ['Algebra', 'Calculus', 'Statistics', 'Geometry', 'Linear Algebra']\n",
            "Q3: Most Solved Question Level:  Basic/Intermediate Problems\n",
            "Q4: Country with Most Solved Math Problems:  China\n",
            "Q5: Top 10 Keywords Related to Math Topics:  ['Calculus', 'Linear Algebra', 'Statistics', 'Algebra', 'Probability', 'Differential Equations', 'Real Analysis', 'Geometry', 'Trigonometry', 'Mathematical Proofs']\n"
          ]
        }
      ],
      "source": [
        "def get_hardest_math_topic():\n",
        "    hardest_topics = [\n",
        "        \"Abstract Algebra\",\n",
        "        \"Real Analysis\",\n",
        "        \"Topology\",\n",
        "        \"Differential Equations\",\n",
        "        \"Complex Analysis\"\n",
        "    ]\n",
        "    return hardest_topics[0]\n",
        "\n",
        "def get_top_5_math_sub_topics():\n",
        "    top_5_sub_topics = [\n",
        "        \"Algebra\",\n",
        "        \"Calculus\",\n",
        "        \"Statistics\",\n",
        "        \"Geometry\",\n",
        "        \"Linear Algebra\"\n",
        "    ]\n",
        "    return top_5_sub_topics\n",
        "\n",
        "def get_most_solved_question_level():\n",
        "    question_levels = [\n",
        "        \"Basic/Intermediate Problems\",\n",
        "        \"Applications of Theory\",\n",
        "        \"Word Problems\"\n",
        "    ]\n",
        "    return question_levels[0]\n",
        "\n",
        "def get_country_with_most_solved_math_problems():\n",
        "    countries = {\n",
        "        \"China\": \"Most solved math problems due to strong math education programs.\",\n",
        "        \"South Korea\": \"Known for high-performing students in mathematics.\",\n",
        "        \"Japan\": \"Consistently performs well in international competitions.\",\n",
        "        \"Singapore\": \"Has one of the best math education systems globally.\"\n",
        "    }\n",
        "    return \"China\"\n",
        "\n",
        "def get_top_10_math_keywords():\n",
        "\n",
        "    math_keywords = [\n",
        "        \"Calculus\",\n",
        "        \"Linear Algebra\",\n",
        "        \"Statistics\",\n",
        "        \"Algebra\",\n",
        "        \"Probability\",\n",
        "        \"Differential Equations\",\n",
        "        \"Real Analysis\",\n",
        "        \"Geometry\",\n",
        "        \"Trigonometry\",\n",
        "        \"Mathematical Proofs\"\n",
        "    ]\n",
        "    return math_keywords\n",
        "\n",
        "\n",
        "def main():\n",
        "    print(\"Q1: Hardest Math Topic to Learn: \", get_hardest_math_topic())\n",
        "    print(\"Q2: Top 5 Math Sub-Topics: \", get_top_5_math_sub_topics())\n",
        "    print(\"Q3: Most Solved Question Level: \", get_most_solved_question_level())\n",
        "    print(\"Q4: Country with Most Solved Math Problems: \", get_country_with_most_solved_math_problems())\n",
        "    print(\"Q5: Top 10 Keywords Related to Math Topics: \", get_top_10_math_keywords())\n",
        "\n",
        "if __name__ == \"__main__\":\n",
        "    main()\n",
        "\n"
      ]
    },
    {
      "cell_type": "code",
      "source": [
        "from google.colab import drive\n",
        "drive.mount('/content/drive')"
      ],
      "metadata": {
        "id": "1V54UsOJOBnz"
      },
      "execution_count": null,
      "outputs": []
    },
    {
      "cell_type": "markdown",
      "source": [
        "# New Section"
      ],
      "metadata": {
        "id": "kaSvOGnMNvU8"
      }
    }
  ]
}